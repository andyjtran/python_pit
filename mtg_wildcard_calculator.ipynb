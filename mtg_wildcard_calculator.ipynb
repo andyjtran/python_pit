{
 "cells": [
  {
   "cell_type": "code",
   "execution_count": 3,
   "metadata": {},
   "outputs": [],
   "source": [
    "# Magic: the Gathering Arena Wildcard Calculator\n",
    "# The following script identifies how many rare and mythic wildcards I need to complete a decklist\n",
    "\n",
    "import requests\n",
    "from bs4 import BeautifulSoup\n",
    "\n",
    "def left(s, amount):\n",
    "    return s[:amount]\n",
    "\n",
    "def mid(s, offset, amount):\n",
    "    return s[offset-1:offset+amount-1]"
   ]
  },
  {
   "cell_type": "code",
   "execution_count": null,
   "metadata": {},
   "outputs": [],
   "source": [
    "# load my Arena collection"
   ]
  },
  {
   "cell_type": "code",
   "execution_count": null,
   "metadata": {},
   "outputs": [],
   "source": [
    "# fetch all Arena legal rares and mythics from Scryfall\n",
    "scryfall = 'https://api.scryfall.com/cards/search?q=game%3Aarena+(r%3Arare+or+r%3Amythic)&unique=prints'\n",
    "arena = requests.get(scryfall).json()\n",
    "#arena_info is dict\n",
    "#arena_info[\"data\"] is list\n",
    "#arena_info[\"data\"][0] is dict\n",
    "yargle = 'https://api.scryfall.com/cards/arena/67330'\n",
    "yargle_info = requests.get(yargle).json()\n"
   ]
  },
  {
   "cell_type": "code",
   "execution_count": 4,
   "metadata": {},
   "outputs": [
    {
     "name": "stdout",
     "output_type": "stream",
     "text": [
      "Fabled Passage\n",
      "2 \n",
      "Shatterskull Smashing\n",
      "2 \n",
      "Cragcrown Pathway\n",
      "4 \n",
      "Genesis Ultimatum\n",
      "4 \n",
      "Riverglide Pathway\n",
      "2 \n",
      "Beanstalk Giant\n",
      "4 \n",
      "Ugin, the Spirit Dragon\n",
      "4 \n",
      "Glimpse of Freedom\n",
      "1 \n",
      "Ketria Triome\n",
      "4 \n",
      "Shark Typhoon\n",
      "4 \n",
      "Jwari Disruption\n",
      "4 \n",
      "Mystical Dispute\n",
      "1 \n",
      "Into the Roil\n",
      "2 \n",
      "Fire Prophecy\n",
      "4 \n",
      "Cultivate\n",
      "4 \n",
      "Migration Path\n",
      "3 \n",
      "\n",
      "\n",
      "Soul Sear\n",
      "2 \n",
      "Ox of Agonas\n",
      "2 \n",
      "Klothys, God of Destiny\n",
      "2 \n",
      "Bonecrusher Giant\n",
      "4 \n",
      "Negate\n",
      "1 \n",
      "Glimpse of Freedom\n",
      "1 \n",
      "Mystical Dispute\n",
      "3 \n"
     ]
    }
   ],
   "source": [
    "# parse decklist input\n",
    "r = requests.get('https://pastebin.com/EkPKpLiE')\n",
    "soup = BeautifulSoup(r.text, 'html.parser')\n",
    "\n",
    "decklist_paste = soup.find_all(\"div\",class_=\"de1\")\n",
    "\n",
    "decklist = []\n",
    "basics = ['Deck','Sideboard','Plains','Island','Swamp','Mountain','Forest']\n",
    "# do i actually need to filter these? won't they just fail to pull against the scryfall library?\n",
    "\n",
    "for row in decklist_paste:\n",
    "    decklist.append(row.string.rstrip())\n",
    "for row in decklist:\n",
    "    if not any(x in row for x in basics):\n",
    "        print(mid(row,3,len(row)))\n",
    "        #check if card is rare+\n",
    "        #if rare then check missing collection\n",
    "        #if in missing collection then check #\n",
    "        #if 4-# in missing collection - # in decklist > 0 then + rare+ count\n",
    "        print(left(row,2))"
   ]
  }
 ],
 "metadata": {
  "kernelspec": {
   "display_name": "Python 3",
   "language": "python",
   "name": "python3"
  },
  "language_info": {
   "codemirror_mode": {
    "name": "ipython",
    "version": 3
   },
   "file_extension": ".py",
   "mimetype": "text/x-python",
   "name": "python",
   "nbconvert_exporter": "python",
   "pygments_lexer": "ipython3",
   "version": "3.9.0"
  }
 },
 "nbformat": 4,
 "nbformat_minor": 4
}
